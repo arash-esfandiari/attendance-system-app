{
 "cells": [
  {
   "cell_type": "code",
   "execution_count": 2,
   "id": "4984c062-fd96-4af8-946f-0eff6da4986f",
   "metadata": {},
   "outputs": [],
   "source": [
    "import pandas as pd\n",
    "import numpy as np\n",
    "import redis"
   ]
  },
  {
   "cell_type": "code",
   "execution_count": 3,
   "id": "27f18bcf-9ab6-46d9-afd8-6360a78e5609",
   "metadata": {},
   "outputs": [],
   "source": [
    "# Connect to Redis Client\n",
    "hostname = \"redis-18251.c13.us-east-1-3.ec2.cloud.redislabs.com\"\n",
    "portnumber = 18251\n",
    "password = \"OzLnEKbM7fYZKjjOErvPnhu9Pe0PzLMY\"\n",
    "\n",
    "r = redis.StrictRedis(host=hostname, port=portnumber, password=password)"
   ]
  },
  {
   "cell_type": "code",
   "execution_count": 4,
   "id": "99cd8989-98c2-44f5-a420-4bfe9a71d161",
   "metadata": {},
   "outputs": [
    {
     "data": {
      "text/plain": [
       "True"
      ]
     },
     "execution_count": 4,
     "metadata": {},
     "output_type": "execute_result"
    }
   ],
   "source": [
    "r.ping()"
   ]
  },
  {
   "cell_type": "code",
   "execution_count": 5,
   "id": "c8575c2f-a8b4-4ee4-96df-75b73580a2d3",
   "metadata": {},
   "outputs": [
    {
     "data": {
      "text/plain": [
       "b'Chris Evans@Student'           b'\\x8e\\xb9\\xb6>\\xde\\x8c\\xd4\\xbeK\\xc0 =m9\\x1e\\x...\n",
       "b'Barack Obama@Teacher'          b'\\xb2Rc\\xbe\\xf5\\xbf\\xc9?+\\xc8\\x00\\xbf\\xa6K\\x0...\n",
       "b'Angelina Jolie@Student'        b'\\xa7\\x9bK>\\xc6\\xc8\\xbc?\\xb6\\xb6\\xc8\\xbd-qa\\x...\n",
       "b'Arash Esfandiari@Student'      b'\\xea.\\xae\\xbfQ\\xce\\x89?\\x15F\\x8a?DM\"?\\xef8\\x...\n",
       "b'Scarlett Johansson@Student'    b'\\xc6\\xac\\n\\xbe^}\\x90\\xbe\\xf6P\\xda\\xbe\\x10q\\x...\n",
       "b'Morgan Freeman@Teacher'        b'~LC?@\\xfac?\\xf8\\xfe\\xef>\\xcd\\xbb\\x84>\\xfa\\xf...\n",
       "dtype: object"
      ]
     },
     "execution_count": 5,
     "metadata": {},
     "output_type": "execute_result"
    }
   ],
   "source": [
    "name = 'academy:register'\n",
    "register_series = pd.Series(r.hgetall(name))\n",
    "register_series"
   ]
  },
  {
   "cell_type": "code",
   "execution_count": 6,
   "id": "0c523435-aaf7-46d1-a837-c64fa53fd1e8",
   "metadata": {},
   "outputs": [
    {
     "data": {
      "text/plain": [
       "1"
      ]
     },
     "execution_count": 6,
     "metadata": {},
     "output_type": "execute_result"
    }
   ],
   "source": [
    "# delete keys/ fields\n",
    "key_to_del = 'Arash Esfandiari@Student'\n",
    "r.hdel(name, key_to_del)"
   ]
  },
  {
   "cell_type": "code",
   "execution_count": 13,
   "id": "70a503ae-172d-44ba-92c8-3dfd543d8c3c",
   "metadata": {},
   "outputs": [
    {
     "data": {
      "text/plain": [
       "b'Chris Evans@Student'           b'\\x8e\\xb9\\xb6>\\xde\\x8c\\xd4\\xbeK\\xc0 =m9\\x1e\\x...\n",
       "b'Barack Obama@Teacher'          b'\\xb2Rc\\xbe\\xf5\\xbf\\xc9?+\\xc8\\x00\\xbf\\xa6K\\x0...\n",
       "b'Angelina Jolie@Student'        b'\\xa7\\x9bK>\\xc6\\xc8\\xbc?\\xb6\\xb6\\xc8\\xbd-qa\\x...\n",
       "b'Arash Esfandiari@Student'      b'\\xea.\\xae\\xbfQ\\xce\\x89?\\x15F\\x8a?DM\"?\\xef8\\x...\n",
       "b'Scarlett Johansson@Student'    b'\\xc6\\xac\\n\\xbe^}\\x90\\xbe\\xf6P\\xda\\xbe\\x10q\\x...\n",
       "b'Morgan Freeman@Teacher'        b'~LC?@\\xfac?\\xf8\\xfe\\xef>\\xcd\\xbb\\x84>\\xfa\\xf...\n",
       "dtype: object"
      ]
     },
     "execution_count": 13,
     "metadata": {},
     "output_type": "execute_result"
    }
   ],
   "source": [
    "register_series = pd.Series(r.hgetall(name))\n",
    "register_series"
   ]
  },
  {
   "cell_type": "code",
   "execution_count": 7,
   "id": "d32ec20d-7199-4936-9e89-08c26bfabd71",
   "metadata": {},
   "outputs": [
    {
     "data": {
      "text/plain": [
       "0"
      ]
     },
     "execution_count": 7,
     "metadata": {},
     "output_type": "execute_result"
    }
   ],
   "source": [
    "key_to_del = 'asdad'\n",
    "r.hdel(name, key_to_del)"
   ]
  },
  {
   "cell_type": "code",
   "execution_count": null,
   "id": "9a1ff84e-a792-428b-a756-6a67bae34be9",
   "metadata": {},
   "outputs": [],
   "source": []
  },
  {
   "cell_type": "code",
   "execution_count": null,
   "id": "0f770c34-4766-42c9-b01e-99d6e8268415",
   "metadata": {},
   "outputs": [],
   "source": []
  }
 ],
 "metadata": {
  "kernelspec": {
   "display_name": "Python 3 (ipykernel)",
   "language": "python",
   "name": "python3"
  },
  "language_info": {
   "codemirror_mode": {
    "name": "ipython",
    "version": 3
   },
   "file_extension": ".py",
   "mimetype": "text/x-python",
   "name": "python",
   "nbconvert_exporter": "python",
   "pygments_lexer": "ipython3",
   "version": "3.9.6"
  }
 },
 "nbformat": 4,
 "nbformat_minor": 5
}
